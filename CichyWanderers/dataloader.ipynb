{
 "cells": [
  {
   "cell_type": "markdown",
   "metadata": {
    "colab_type": "text",
    "id": "view-in-github"
   },
   "source": [
    "<a href=\"https://colab.research.google.com/github/eduardojdiniz/CichyWanderers/blob/346ae7adc197457d4642c4c7fafa407ded8c1424/dataloader.ipynb\" target=\"_parent\"><img src=\"https://colab.research.google.com/assets/colab-badge.svg\" alt=\"Open In Colab\"/></a>"
   ]
  },
  {
   "cell_type": "markdown",
   "metadata": {
    "id": "J8FuAReHVFsX"
   },
   "source": [
    "# Data loader"
   ]
  },
  {
   "cell_type": "markdown",
   "metadata": {},
   "source": [
    "### Import CichyWanderers GitHub Repository"
   ]
  },
  {
   "cell_type": "code",
   "execution_count": 1,
   "metadata": {},
   "outputs": [
    {
     "name": "stdout",
     "output_type": "stream",
     "text": [
      "Cloning into 'CichyWanderers'...\n",
      "remote: Enumerating objects: 37, done.\u001b[K\n",
      "remote: Counting objects: 100% (37/37), done.\u001b[K\n",
      "remote: Compressing objects: 100% (25/25), done.\u001b[K\n",
      "remote: Total 37 (delta 11), reused 28 (delta 6), pack-reused 0\u001b[K\n",
      "Unpacking objects: 100% (37/37), 293.00 KiB | 6.10 MiB/s, done.\n"
     ]
    }
   ],
   "source": [
    "!git clone https://github.com/eduardojdiniz/CichyWanderers"
   ]
  },
  {
   "cell_type": "markdown",
   "metadata": {},
   "source": [
    "### Import dataloader"
   ]
  },
  {
   "cell_type": "code",
   "execution_count": 3,
   "metadata": {},
   "outputs": [],
   "source": [
    "import CichyWanderers.dataloader as dataloader"
   ]
  },
  {
   "cell_type": "markdown",
   "metadata": {},
   "source": [
    "### Download and create Cichy et al, 2014 dataset"
   ]
  },
  {
   "cell_type": "code",
   "execution_count": 4,
   "metadata": {},
   "outputs": [],
   "source": [
    "data_dirpath, RDM_dict, stim_dict = dataloader.create_dataset()"
   ]
  },
  {
   "cell_type": "markdown",
   "metadata": {},
   "source": [
    "### Dictionary structures\n",
    "\n",
    "#### `data_dirpath`\n",
    "    data_dirpath: string with the path to the data folder\n",
    "\n",
    "#### `RDM_dict`\n",
    "    RDM_dict: dict with keys 'MEG', 'fMRI_EVC', 'fMRI_IT'\n",
    "    'MEG'     : ndarray, (16, 2, 1301, 92, 92)\n",
    "        16 subjects, 2 sessions, 1301 time points (from -100 ms to 1200 ms\n",
    "        wrt to stimulus onset at 0 ms), 92 conditions by 92 conditions.\n",
    "        The last 2 dimensions form representational dissimilarity matrices of\n",
    "        decoding accuracies, symmetric accross the diagonal, with the diagonal\n",
    "        undefined (NaN).\n",
    "    'fMRI_EVC': ndarray, (15, 92, 92)\n",
    "        15 subjects, 92 conditions by 92 conditions.\n",
    "        The last 2 dimensions form a representational dissimilarity matrix of\n",
    "        spearman correlation for the EVC cortex, symmetric accross the diagonal,\n",
    "        with the diagonal undefined (NaN).\n",
    "    'fMRI_IT' : ndarray, (15, 92, 92)\n",
    "        15 subjects, 92 conditions by 92 conditions.\n",
    "        The last 2 dimensions form a representational dissimilarity matrix of\n",
    "        spearman correlation for the IT cortex, symmetric accross the diagonal,\n",
    "        with the diagonal undefined (NaN).\n",
    "        \n",
    "#### `stim_dict`        \n",
    "    stim_dict: dict with keys 'category', 'human', 'face', 'animate', 'natural', 'imagepath'\n",
    "    'category'  : list[str], indicating category\n",
    "    'human'     : list[int], indicating membership (0=not a member, 1=member)\n",
    "    'face'      : list[int], indicating membership (0=not a member, 1=member)\n",
    "    'animate'   : list[int], indicating membership (0=not a member, 1=member)\n",
    "    'natural'   : list[int], indicating membership (0=not a member, 1=member)\n",
    "    'imagepath' : list[str], jpeg image filepath\n"
   ]
  },
  {
   "cell_type": "markdown",
   "metadata": {
    "id": "uM5mp1kwbJos",
    "tags": []
   },
   "source": [
    "# References\n",
    "1.   [Resolving human object recognition in space and time. Cichy et al. Nature Neuroscience 2014](https://www.nature.com/articles/nn.3635)\n",
    "2.   [Representational similarity analysis – connecting the branches of systems neuroscience. Kriegeskorte et al. Front. Syst. Neurosci., 2008](https://www.frontiersin.org/articles/10.3389/neuro.06.004.2008/full?utm_source=FWEB&utm_medium=NBLOG&utm_campaign=ECO_10YA_top-research)\n",
    "\n",
    "\n",
    "\n"
   ]
  }
 ],
 "metadata": {
  "colab": {
   "collapsed_sections": [],
   "include_colab_link": true,
   "name": "load_cichy_fMRI_MEG.ipynb",
   "provenance": [],
   "toc_visible": true
  },
  "kernelspec": {
   "display_name": "Python 3",
   "language": "python",
   "name": "python3"
  },
  "language_info": {
   "codemirror_mode": {
    "name": "ipython",
    "version": 3
   },
   "file_extension": ".py",
   "mimetype": "text/x-python",
   "name": "python",
   "nbconvert_exporter": "python",
   "pygments_lexer": "ipython3",
   "version": "3.8.8"
  }
 },
 "nbformat": 4,
 "nbformat_minor": 4
}
