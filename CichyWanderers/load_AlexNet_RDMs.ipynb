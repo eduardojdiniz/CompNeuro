{
 "cells": [
  {
   "cell_type": "markdown",
   "metadata": {
    "colab_type": "text",
    "id": "view-in-github",
    "tags": []
   },
   "source": [
    "<a href=\"https://colab.research.google.com/github/eduardojdiniz/CichyWanderers/blob/434f62e9b2b6f4e7aa1463cecdd17a6a91ab997f/load_AlexNet_RDMs.ipynb\" target=\"_parent\"><img src=\"https://colab.research.google.com/assets/colab-badge.svg\" alt=\"Open In Colab\"/></a>"
   ]
  },
  {
   "cell_type": "markdown",
   "metadata": {
    "id": "J8FuAReHVFsX"
   },
   "source": [
    "#  AlexNet RDMs"
   ]
  },
  {
   "cell_type": "code",
   "execution_count": 1,
   "metadata": {
    "cellView": "form",
    "id": "9kyn7SKaDads"
   },
   "outputs": [],
   "source": [
    "# Imports\n",
    "import torch\n",
    "from torchvision import transforms as trn\n",
    "from torch.autograd import Variable as V\n",
    "import torch.nn as nn\n",
    "import torch.utils.model_zoo as model_zoo\n",
    "from tqdm import tqdm\n",
    "import glob\n",
    "import numpy as np\n",
    "import urllib\n",
    "import os\n",
    "from PIL import Image\n",
    "from pathlib import Path"
   ]
  },
  {
   "cell_type": "code",
   "execution_count": 2,
   "metadata": {
    "id": "HwEf4Ffm4SV9"
   },
   "outputs": [],
   "source": [
    "# AlexNet Definition\n",
    "__all__ = ['AlexNet', 'alexnet']\n",
    "\n",
    "\n",
    "model_urls = {\n",
    "    'alexnet': 'https://download.pytorch.org/models/alexnet-owt-4df8aa71.pth',\n",
    "}\n",
    "\n",
    "# Here we redefine AlexNet differently from torchvision code for better understanding\n",
    "class AlexNet(nn.Module):\n",
    "    def __init__(self, num_classes=1000):\n",
    "        super(AlexNet, self).__init__()\n",
    "        self.conv1 = nn.Sequential(\n",
    "            nn.Conv2d(3, 64, kernel_size=11, stride=4, padding=2),\n",
    "            nn.ReLU(inplace=True),\n",
    "            nn.MaxPool2d(kernel_size=3, stride=2),\n",
    "            )\n",
    "        self.conv2 = nn.Sequential(\n",
    "            nn.Conv2d(64, 192, kernel_size=5, padding=2),\n",
    "            nn.ReLU(inplace=True),\n",
    "            nn.MaxPool2d(kernel_size=3, stride=2),\n",
    "            )\n",
    "        self.conv3 = nn.Sequential(\n",
    "            nn.Conv2d(192, 384, kernel_size=3, padding=1),\n",
    "            nn.ReLU(inplace=True),\n",
    "            )\n",
    "        self.conv4 = nn.Sequential(\n",
    "            nn.Conv2d(384, 256, kernel_size=3, padding=1),\n",
    "            nn.ReLU(inplace=True),\n",
    "            )\n",
    "        self.conv5 = nn.Sequential(\n",
    "            nn.Conv2d(256, 256, kernel_size=3, padding=1),\n",
    "            nn.ReLU(inplace=True),\n",
    "            nn.MaxPool2d(kernel_size=3, stride=2),\n",
    "            )\n",
    "        self.fc6 = nn.Sequential(\n",
    "            nn.Dropout(),\n",
    "            nn.Linear(256 * 6 * 6, 4096),\n",
    "            nn.ReLU(inplace=True),\n",
    "            )\n",
    "        self.fc7 =nn.Sequential(\n",
    "            nn.Dropout(),\n",
    "            nn.Linear(4096, 4096),\n",
    "            )\n",
    "        self.fc8 = nn.Sequential(\n",
    "            nn.ReLU(inplace=True),\n",
    "            nn.Linear(4096, num_classes),\n",
    "            )\n",
    "\n",
    "    def forward(self, x):\n",
    "        out1 = self.conv1(x)\n",
    "        out2 = self.conv2(out1)\n",
    "        out3 = self.conv3(out2)\n",
    "        out4 = self.conv4(out3)\n",
    "        out5 = self.conv5(out4)\n",
    "\n",
    "        out5_reshaped = out5.view(out5.size(0), 256 * 6 * 6)\n",
    "        out6= self.fc6(out5_reshaped)\n",
    "        out7= self.fc7(out6)\n",
    "        out8 = self.fc8(out7)\n",
    "        return out1, out2, out3,out4, out5, out6,out7,out8\n",
    "\n",
    "\n",
    "def alexnet(pretrained=False, **kwargs):\n",
    "    \"\"\"AlexNet model architecture from the\n",
    "    `\"One weird trick...\" <https://arxiv.org/abs/1404.5997>`_ paper.\n",
    "    Args:\n",
    "        pretrained (bool): If True, returns a model pre-trained on ImageNet\n",
    "    \"\"\"\n",
    "    model = AlexNet(**kwargs)\n",
    "    if pretrained:\n",
    "        model.load_state_dict(model_zoo.load_url(model_urls['alexnet']))\n",
    "    return model "
   ]
  },
  {
   "cell_type": "code",
   "execution_count": 3,
   "metadata": {
    "id": "6GqrOsWn4WBx"
   },
   "outputs": [],
   "source": [
    "# Feature extraction code\n",
    "def load_alexnet(model_checkpoints):\n",
    "    \"\"\"This function initializes an Alexnet and load\n",
    "    its weights from a pretrained model. Since we redefined model in a different\n",
    "    way we have to rename the weights that were in the pretrained checkpoint.\n",
    "    ----------\n",
    "    model_checkpoints : str\n",
    "        model checkpoints location.\n",
    "    Returns\n",
    "    -------\n",
    "    model\n",
    "        pytorch model of alexnet\n",
    "    \"\"\"\n",
    "\n",
    "    model = alexnet()\n",
    "    # Load checkpoint\n",
    "    model_file = model_checkpoints\n",
    "    checkpoint = torch.load(model_file, map_location=lambda storage, loc: storage)\n",
    "\n",
    "    # Rename the checkpoint keys according to new definition\n",
    "    model_dict =[\"conv1.0.weight\", \"conv1.0.bias\", \"conv2.0.weight\", \"conv2.0.bias\", \"conv3.0.weight\", \"conv3.0.bias\", \"conv4.0.weight\", \"conv4.0.bias\", \"conv5.0.weight\", \"conv5.0.bias\", \"fc6.1.weight\", \"fc6.1.bias\", \"fc7.1.weight\", \"fc7.1.bias\", \"fc8.1.weight\", \"fc8.1.bias\"]\n",
    "    state_dict={}\n",
    "    i=0\n",
    "    for k,v in checkpoint.items():\n",
    "        state_dict[model_dict[i]] =  v\n",
    "        i+=1\n",
    "\n",
    "    # initialize model with pretrained weights \n",
    "    model.load_state_dict(state_dict)\n",
    "    if torch.cuda.is_available():\n",
    "        model.cuda()\n",
    "    model.eval()\n",
    "    return model\n",
    "\n",
    "def get_activations_and_save(model, image_list, activations_dir):\n",
    "    \"\"\"This function generates Alexnet features and save them in a specified directory.\n",
    "    Parameters\n",
    "    ----------\n",
    "    model :\n",
    "        pytorch model : alexnet.\n",
    "    image_list : list\n",
    "        the list contains path to all images.\n",
    "    activations_dir : str\n",
    "        save path for extracted features.\n",
    "    \"\"\"\n",
    "\n",
    "    resize_normalize = trn.Compose([\n",
    "            trn.Resize((224,224)),\n",
    "            trn.ToTensor(),\n",
    "            trn.Normalize([0.485, 0.456, 0.406], [0.229, 0.224, 0.225])])\n",
    "\n",
    "    # for all images in the list generate and save activations\n",
    "    for image_file in tqdm(image_list):\n",
    "        \n",
    "        # open image\n",
    "        img = Image.open(image_file)\n",
    "        image_file_name = os.path.split(image_file)[-1].split(\".\")[0]\n",
    "\n",
    "        # apply transformations before feeding to model\n",
    "        input_img = V(resize_normalize(img).unsqueeze(0))\n",
    "        if torch.cuda.is_available():\n",
    "            input_img=input_img.cuda()\n",
    "        x = model.forward(input_img)\n",
    "\n",
    "        activations = []\n",
    "        for i,feat in enumerate(x):\n",
    "            activations.append(feat.data.cpu().numpy().ravel())\n",
    "\n",
    "        for layer in range(len(activations)):\n",
    "            save_path = os.path.join(activations_dir, image_file_name+\"_\"+\"layer\" + \"_\" + str(layer+1) + \".npy\")\n",
    "            np.save(save_path,activations[layer])\n"
   ]
  },
  {
   "cell_type": "code",
   "execution_count": 4,
   "metadata": {
    "id": "tFpNlkrd4atV"
   },
   "outputs": [
    {
     "name": "stdout",
     "output_type": "stream",
     "text": [
      "Total Number of Images:  92\n"
     ]
    },
    {
     "name": "stderr",
     "output_type": "stream",
     "text": [
      "/opt/conda/lib/python3.8/site-packages/torch/serialization.py:701: UserWarning: Legacy tensor constructor is deprecated. Use: torch.tensor(...) for creating tensors from tensor-like objects; or torch.empty(...) for creating an uninitialized tensor with specific sizes. (Triggered internally at  /pytorch/torch/csrc/utils/tensor_new.cpp:476.)\n",
      "  tensor = tensor_type().set_(storage, storage_offset, size, stride)\n",
      "  0%|          | 0/92 [00:00<?, ?it/s]"
     ]
    },
    {
     "name": "stdout",
     "output_type": "stream",
     "text": [
      "-------------Saving activations ----------------------------\n"
     ]
    },
    {
     "name": "stderr",
     "output_type": "stream",
     "text": [
      "100%|██████████| 92/92 [00:00<00:00, 135.11it/s]\n"
     ]
    }
   ],
   "source": [
    "# get the paths to all the images in the stimulus set\n",
    "\n",
    "image_dir = 'data/92_Image_Set/92images'\n",
    "\n",
    "if not os.path.exists(image_dir):\n",
    "    # Data download\n",
    "    Path(\"data\").mkdir(parents=True, exist_ok=True)\n",
    "    !wget -qO data/data.zip -c https://osf.io/7vpyh/download\n",
    "    !unzip -o data/data.zip -d data #unzip the files\n",
    "    \n",
    "image_list = glob.glob(image_dir + '/*.jpg')\n",
    "image_list.sort()\n",
    "print('Total Number of Images: ', len(image_list))\n",
    "cwd = os.getcwd() # get current working directory\n",
    "save_dir = os.path.join(cwd, \"model/activations_alexnet\")\n",
    "if not os.path.exists(save_dir):\n",
    "    os.makedirs(save_dir)\n",
    "\n",
    "######### load Alexnet initialized with pretrained weights ###################\n",
    "# Download pretrained Alexnet from:\n",
    "# https://download.pytorch.org/models/alexnet-owt-4df8aa71.pth\n",
    "# and save in the current directory\n",
    "checkpoint_path = os.path.join(cwd, \"model/alexnet.pth\")\n",
    "if not os.path.exists(checkpoint_path):\n",
    "    url = \"https://download.pytorch.org/models/alexnet-owt-4df8aa71.pth\"\n",
    "    urllib.request.urlretrieve(url, checkpoint_path)\n",
    "model = load_alexnet(checkpoint_path)\n",
    "##############################################################################\n",
    "\n",
    "######### get and save activations ################################\n",
    "activations_dir = os.path.join(save_dir)\n",
    "if not os.path.exists(activations_dir):\n",
    "    os.makedirs(activations_dir)\n",
    "print(\"-------------Saving activations ----------------------------\")\n",
    "get_activations_and_save(model, image_list, activations_dir)\n",
    "###################################################################"
   ]
  },
  {
   "cell_type": "code",
   "execution_count": 8,
   "metadata": {
    "id": "h9gqjNEw5duf"
   },
   "outputs": [],
   "source": [
    "cwd = os.getcwd() # get current working directory\n",
    "activations_dir = os.path.join(cwd, \"model/activations_alexnet\")\n",
    "def get_Model_RDM_dict(activations_dir=activations_dir):\n",
    "    num_layers = 8  # number of layers in the model\n",
    "    layers = []\n",
    "\n",
    "    for i in range(num_layers):\n",
    "      layers.append(\"layer\" + \"_\" + str(i+1))\n",
    "\n",
    "    Model_RDM_dict = {}\n",
    "\n",
    "    # create RDM for each layer from activations\n",
    "    for layer in layers:\n",
    "        activation_files = glob.glob(activations_dir + '/*' + layer + '.npy')\n",
    "        activation_files.sort()\n",
    "        activations = []\n",
    "        \n",
    "        # Load all activations\n",
    "        for activation_file  in activation_files:\n",
    "            activations.append(np.load(activation_file))\n",
    "        activations = np.array(activations)\n",
    "        \n",
    "        # calculate Pearson's distance for all pairwise comparisons \n",
    "        Model_RDM_dict[layer] = 1-np.corrcoef(activations)\n",
    "        \n",
    "    return Model_RDM_dict"
   ]
  },
  {
   "cell_type": "code",
   "execution_count": 11,
   "metadata": {},
   "outputs": [],
   "source": [
    "Model_RDM_dict = get_Model_RDM_dict()"
   ]
  },
  {
   "cell_type": "code",
   "execution_count": 22,
   "metadata": {},
   "outputs": [],
   "source": [
    "il = np.tril_indices(5, k=-1)"
   ]
  },
  {
   "cell_type": "code",
   "execution_count": 24,
   "metadata": {},
   "outputs": [],
   "source": [
    "a = np.arange(25).reshape(5,5)"
   ]
  },
  {
   "cell_type": "code",
   "execution_count": 25,
   "metadata": {},
   "outputs": [
    {
     "data": {
      "text/plain": [
       "10"
      ]
     },
     "execution_count": 25,
     "metadata": {},
     "output_type": "execute_result"
    }
   ],
   "source": [
    "len(a[il])"
   ]
  },
  {
   "cell_type": "code",
   "execution_count": 26,
   "metadata": {},
   "outputs": [
    {
     "data": {
      "text/plain": [
       "array([[ 0,  1,  2,  3,  4],\n",
       "       [ 5,  6,  7,  8,  9],\n",
       "       [10, 11, 12, 13, 14],\n",
       "       [15, 16, 17, 18, 19],\n",
       "       [20, 21, 22, 23, 24]])"
      ]
     },
     "execution_count": 26,
     "metadata": {},
     "output_type": "execute_result"
    }
   ],
   "source": [
    "a"
   ]
  },
  {
   "cell_type": "code",
   "execution_count": null,
   "metadata": {},
   "outputs": [],
   "source": []
  }
 ],
 "metadata": {
  "colab": {
   "collapsed_sections": [],
   "include_colab_link": true,
   "name": "load_cichy_fMRI_MEG.ipynb",
   "provenance": [],
   "toc_visible": true
  },
  "kernelspec": {
   "display_name": "Python 3",
   "language": "python",
   "name": "python3"
  },
  "language_info": {
   "codemirror_mode": {
    "name": "ipython",
    "version": 3
   },
   "file_extension": ".py",
   "mimetype": "text/x-python",
   "name": "python",
   "nbconvert_exporter": "python",
   "pygments_lexer": "ipython3",
   "version": "3.8.8"
  }
 },
 "nbformat": 4,
 "nbformat_minor": 4
}
