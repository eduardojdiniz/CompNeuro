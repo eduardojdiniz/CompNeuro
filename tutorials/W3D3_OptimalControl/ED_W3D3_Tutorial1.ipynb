{
 "cells": [
  {
   "cell_type": "markdown",
   "metadata": {
    "colab_type": "text",
    "execution": {},
    "id": "view-in-github"
   },
   "source": [
    "<a href=\"https://colab.research.google.com/github/NeuromatchAcademy/course-content/blob/master/tutorials/W3D3_OptimalControl/W3D3_Tutorial1.ipynb\" target=\"_parent\"><img src=\"https://colab.research.google.com/assets/colab-badge.svg\" alt=\"Open In Colab\"/></a>"
   ]
  },
  {
   "cell_type": "markdown",
   "metadata": {
    "execution": {}
   },
   "source": [
    "# Tutorial 1: Optimal Control for Discrete States\n",
    "**Week 3, Day 3: Optimal Control**\n",
    "\n",
    "**By Neuromatch Academy**\n",
    "\n",
    "__Content creators:__ Zhengwei Wu, Shreya Saxena, Xaq Pitkow\n",
    "\n",
    "__Content reviewers:__ Karolina Stosio, Roozbeh Farhoodi, Saeed Salehi, Ella Batty, Spiros Chavlis, Matt Krause, and Michael Waskom"
   ]
  },
  {
   "cell_type": "markdown",
   "metadata": {
    "execution": {}
   },
   "source": [
    "**Our 2021 Sponsors, including Presenting Sponsor Facebook Reality Labs**\n",
    "\n",
    "<p align='center'><img src='https://github.com/NeuromatchAcademy/widgets/blob/master/sponsors.png?raw=True'/></p>"
   ]
  },
  {
   "cell_type": "markdown",
   "metadata": {
    "execution": {}
   },
   "source": [
    "---\n",
    "# Tutorial Objectives\n",
    "\n",
    "In this tutorial, we will implement a binary control task: a Partially Observable Markov Decision Process (POMDP) that describes fishing. The agent (you) seeks reward from two fishing sites without directly observing where the school of fish is (a group of fish is called a school!). This makes the world a Hidden Markov Model. Based on when and where you catch fish, you keep updating your belief about the fish location, _i.e._ the posterior of the fish given past observations. You should control your position to get the most fish while minimizing the cost of switching sides.\n",
    "\n",
    "You've already learned about stochastic dynamics, latent states, and measurements. Now we introduce you to the new concepts of **control, utility, and policy**."
   ]
  },
  {
   "cell_type": "code",
   "execution_count": null,
   "metadata": {
    "cellView": "form",
    "execution": {}
   },
   "outputs": [],
   "source": [
    "# @title Tutorial slides\n",
    "\n",
    "# @markdown These are the slides for all videos in this tutorial.\n",
    "from IPython.display import IFrame\n",
    "IFrame(src=f\"https://mfr.ca-1.osf.io/render?url=https://osf.io/8j5rs/?direct%26mode=render%26action=download%26mode=render\", width=854, height=480)"
   ]
  },
  {
   "cell_type": "markdown",
   "metadata": {
    "execution": {}
   },
   "source": [
    "---\n",
    "## Setup  \n",
    "\n"
   ]
  },
  {
   "cell_type": "code",
   "execution_count": 1,
   "metadata": {
    "tags": []
   },
   "outputs": [],
   "source": [
    "# Imports\n",
    "\n",
    "import numpy as np\n",
    "import scipy\n",
    "from scipy.linalg import inv\n",
    "from math import isclose\n",
    "import matplotlib.pyplot as plt"
   ]
  },
  {
   "cell_type": "code",
   "execution_count": 2,
   "metadata": {
    "cellView": "form",
    "tags": []
   },
   "outputs": [],
   "source": [
    "#@title Figure Settings\n",
    "%matplotlib inline\n",
    "%config InlineBackend.figure_format = 'retina'\n",
    "import ipywidgets as widgets\n",
    "from ipywidgets import interact, fixed, HBox, Layout, VBox, interactive, Label\n",
    "plt.style.use(\"https://raw.githubusercontent.com/NeuromatchAcademy/course-content/master/nma.mplstyle\")"
   ]
  },
  {
   "cell_type": "code",
   "execution_count": 3,
   "metadata": {
    "cellView": "form",
    "tags": []
   },
   "outputs": [],
   "source": [
    "# @title Plotting Functions\n",
    "\n",
    "\n",
    "def plot_fish(fish_state, ax=None):\n",
    "  \"\"\"\n",
    "  Plot the fish dynamics\n",
    "  \"\"\"\n",
    "  T = len(fish_state)\n",
    "\n",
    "  showlen = min(T, 200)\n",
    "  startT = 0\n",
    "\n",
    "  endT = startT + showlen\n",
    "  showT = range(startT, endT)\n",
    "  time_range = np.linspace(0, showlen - 1)\n",
    "\n",
    "  if not ax:\n",
    "    fig, ax = plt.subplots(1, 1, figsize=(12, 2.5))\n",
    "  ax.plot(- fish_state[showT], color='dodgerblue', markersize=10, linewidth=3.0)\n",
    "  ax.set_xlabel('time', fontsize=18)\n",
    "  ax.set_ylabel('Fish state', rotation=360, fontsize=18)\n",
    "  ax.yaxis.set_label_coords(-0.1, 0.25)\n",
    "  ax.set_xticks([0, showlen, showlen])\n",
    "  ax.tick_params(axis='both', which='major', labelsize=18)\n",
    "  ax.set_xlim([0, showlen])\n",
    "  ax.set_ylim([-1.1, 1.1])\n",
    "  ax.set_yticks([-1, 1])\n",
    "  ax.tick_params(axis='both', which='major', labelsize=18)\n",
    "  labels = [item.get_text() for item in ax.get_yticklabels()]\n",
    "  labels[0] = 'Right'\n",
    "  labels[1] = 'Left'\n",
    "  ax.set_yticklabels(labels)\n",
    "\n",
    "\n",
    "def plot_measurement(measurement, ax=None):\n",
    "  \"\"\"\n",
    "  Plot the measurements\n",
    "  \"\"\"\n",
    "  T = len(measurement)\n",
    "\n",
    "  showlen = min(T, 200)\n",
    "  startT = 0\n",
    "  endT = startT + showlen\n",
    "  showT = range(startT, endT)\n",
    "  time_range = np.linspace(0, showlen - 1)\n",
    "\n",
    "  if not ax:\n",
    "    fig, ax = plt.subplots(1, 1, figsize=(12, 2.5))\n",
    "  ax.plot(measurement[showT], 'r*', markersize=5)\n",
    "  ax.set_xlabel('time', fontsize=18)\n",
    "  ax.set_ylabel('Measurement', rotation=360, fontsize=18)\n",
    "  ax.yaxis.set_label_coords(-0.2, 0.4)\n",
    "  ax.set_xticks([0, showlen, showlen])\n",
    "  ax.tick_params(axis='both', which='major', labelsize=18)\n",
    "  ax.set_xlim([0, showlen])\n",
    "  ax.set_ylim([-.1, 1.1])\n",
    "  ax.set_yticks([0, 1])\n",
    "  ax.set_yticklabels(['no fish', 'caught fish'])\n",
    "\n",
    "\n",
    "def plot_act_loc(loc, act, ax_loc=None):\n",
    "  \"\"\"\n",
    "  Plot the action and location of 200 time points\n",
    "  \"\"\"\n",
    "  T = len(act)\n",
    "\n",
    "  showlen = min(T, 200)\n",
    "  startT = 0\n",
    "\n",
    "  endT = startT + showlen\n",
    "  showT = range(startT, endT)\n",
    "  time_range = np.linspace(0, showlen - 1)\n",
    "\n",
    "  if not ax_loc:\n",
    "    fig, ax_loc = plt.subplots(1, 1, figsize=(12, 2.5))\n",
    "\n",
    "  act_int = (act == \"switch\").astype(int)\n",
    "  ax_loc.plot(-loc[showT], 'g.-', markersize=8, linewidth=5)\n",
    "  ax_loc.plot((act_int[showT] * 4 - 3) * .5, 'rv', markersize=12,\n",
    "              label='switch')\n",
    "  ax_loc.set_xlabel('time', fontsize=18)\n",
    "  ax_loc.set_ylabel('Your state', rotation=360, fontsize=18)\n",
    "\n",
    "  ax_loc.legend(loc=\"upper right\", fontsize=12)\n",
    "  ax_loc.set_xlim([0, showlen])\n",
    "  ax_loc.set_ylim([-1.1, 1.1])\n",
    "  ax_loc.set_yticks([-1, 1])\n",
    "  ax_loc.set_xticks([0, showlen, showlen])\n",
    "  ax_loc.tick_params(axis='both', which='major', labelsize=18)\n",
    "  labels = [item.get_text() for item in ax_loc.get_yticklabels()]\n",
    "  labels[1] = 'Left'\n",
    "  labels[0] = 'Right'\n",
    "  ax_loc.set_yticklabels(labels)\n",
    "\n",
    "\n",
    "def plot_belief(belief, ax1=None, choose_policy=None):\n",
    "  \"\"\"\n",
    "  Plot the belief dynamics of 200 time points\n",
    "  \"\"\"\n",
    "\n",
    "  T = belief.shape[1]\n",
    "\n",
    "  showlen = min(T, 200)\n",
    "  startT = 0\n",
    "\n",
    "  endT = startT + showlen\n",
    "  showT = range(startT, endT)\n",
    "  time_range = np.linspace(0, showlen - 1)\n",
    "\n",
    "  if not ax1:\n",
    "      fig, ax1 = plt.subplots(1, 1, figsize=(12, 2.5))\n",
    "\n",
    "  ax1.plot(belief[0, showT], color='dodgerblue', markersize=10, linewidth=3.0)\n",
    "  ax1.yaxis.set_label_coords(-0.1, 0.25)\n",
    "  ax1.set_xlabel('time', rotation=360, fontsize=18)\n",
    "  ax1.set_ylabel('Belief on \\n left', rotation=360, fontsize=18)\n",
    "  ax1.tick_params(axis='both', which='major', labelsize=18)\n",
    "  ax1.set_xlim([0, showlen])\n",
    "  ax1.set_yticks([0, 1])\n",
    "  ax1.set_ylim([0, 1.1])\n",
    "  ax1.set_xticks([0, showlen, showlen])\n",
    "\n",
    "  if choose_policy == \"threshold\":\n",
    "    ax2 = ax1.twinx()\n",
    "    ax2.plot(time_range, threshold * np.ones(time_range.shape), 'r--')\n",
    "    ax2.plot(time_range, (1 - threshold) * np.ones(time_range.shape), 'c--')\n",
    "    ax2.set_yticks([threshold, 1 - threshold])\n",
    "    ax2.set_ylim([0, 1.1])\n",
    "    ax2.tick_params(axis='both', which='major', labelsize=18)\n",
    "    labels = [item.get_text() for item in ax2.get_yticklabels()]\n",
    "    labels[0] = 'threshold to switch \\n from left to right'\n",
    "    labels[-1] = 'threshold to switch \\n from right to left'\n",
    "    ax2.set_yticklabels(labels)\n",
    "\n",
    "\n",
    "def plot_dynamics(belief, loc, act, meas, fish_state, choose_policy):\n",
    "  \"\"\"\n",
    "  Plot the dynamics of 200 time points\n",
    "  \"\"\"\n",
    "  if choose_policy == 'threshold':\n",
    "    fig, [ax0, ax_loc, ax1, ax_bel] = plt.subplots(4, 1, figsize=(12, 9))\n",
    "    plot_fish(fish_state, ax=ax0)\n",
    "    plot_belief(belief, ax1=ax_bel)\n",
    "    plot_measurement(meas, ax=ax1)\n",
    "    plot_act_loc(loc, act, ax_loc=ax_loc)\n",
    "  else:\n",
    "    fig, [ax0, ax1, ax_bel] = plt.subplots(3, 1, figsize=(12, 7))\n",
    "    plot_fish(fish_state, ax=ax0)\n",
    "    plot_belief(belief, ax1=ax_bel)\n",
    "    plot_measurement(meas, ax=ax1)\n",
    "\n",
    "  plt.tight_layout()\n",
    "  plt.show()\n",
    "\n",
    "\n",
    "def belief_histogram(belief, bins=100):\n",
    "  \"\"\"\n",
    "  Plot the histogram of belief states\n",
    "  \"\"\"\n",
    "  fig, ax = plt.subplots(1, 1, figsize=(8, 6))\n",
    "  ax.hist(belief, bins)\n",
    "  ax.set_xlabel('belief', fontsize=18)\n",
    "  ax.set_ylabel('count', fontsize=18)\n",
    "  plt.show()\n",
    "\n",
    "\n",
    "def plot_value_threshold(cost_sw=0.5, T=10000, p_stay=.95,\n",
    "                         high_rew_p=.4, low_rew_p=.1, step=.05):\n",
    "  \"\"\"\n",
    "  Helper function to plot the value function and threshold\n",
    "  \"\"\"\n",
    "  params = [T, p_stay, high_rew_p, low_rew_p, _]\n",
    "\n",
    "  threshold_array, value_array = value_threshold(params, cost_sw, step)\n",
    "  yrange = np.max(value_array) - np.min(value_array)\n",
    "\n",
    "  fig_, ax = plt.subplots(1, 1, figsize=(8, 6))\n",
    "  ax.plot(threshold_array, value_array, 'b')\n",
    "  ax.set_ylim([np.min(value_array) - yrange * .1, np.max(value_array) + yrange * .1])\n",
    "  ax.set_title(f'threshold vs value with switching cost c = {cost_sw:.2f}',\n",
    "               fontsize=20)\n",
    "  ax.set_xlabel('threshold', fontsize=16)\n",
    "  ax.set_ylabel('value', fontsize=16)\n",
    "  plt.show()"
   ]
  },
  {
   "cell_type": "code",
   "execution_count": 4,
   "metadata": {
    "cellView": "form",
    "tags": []
   },
   "outputs": [],
   "source": [
    "# @title Helper Functions\n",
    "\n",
    "binomial = np.random.binomial\n",
    "\n",
    "\n",
    "class ExcerciseError(AssertionError):\n",
    "  pass\n",
    "\n",
    "\n",
    "def test_policy_threshold():\n",
    "  well_done = True\n",
    "  for loc in [-1, 1]:\n",
    "    threshold = 0.4\n",
    "    belief = np.array([.2, .3])\n",
    "    if policy_threshold(threshold, belief, loc) != \"switch\":\n",
    "      raise ExcerciseError(\"'policy_threshold' function is not correctly implemented!\")\n",
    "  for loc in [1, -1]:\n",
    "    threshold = 0.6\n",
    "    belief = np.array([.7, .8])\n",
    "    if policy_threshold(threshold, belief, loc) != \"stay\":\n",
    "      raise ExcerciseError(\"'policy_threshold' function is not correctly implemented!\")\n",
    "  print(\"Well Done!\")\n",
    "\n",
    "\n",
    "def test_value_function():\n",
    "  measurement = np.array([0, 0, 0, 1, 0, 0, 0, 0, 1, 1])\n",
    "  act = np.array([\"switch\", \"stay\", \"switch\", \"stay\", \"stay\",\n",
    "                  \"stay\", \"switch\", \"switch\", \"stay\", \"stay\"])\n",
    "  cost_sw = .5\n",
    "  if not isclose(value_function(measurement, act, cost_sw), .1):\n",
    "    raise ExcerciseError(\"'value_function' function is not correctly implemented!\")\n",
    "  print(\"Well Done!\")"
   ]
  },
  {
   "cell_type": "markdown",
   "metadata": {
    "execution": {}
   },
   "source": [
    "---\n",
    "# Section 1: Dynamics of Fishing"
   ]
  },
  {
   "cell_type": "code",
   "execution_count": 5,
   "metadata": {
    "cellView": "form",
    "tags": []
   },
   "outputs": [
    {
     "data": {
      "application/vnd.jupyter.widget-view+json": {
       "model_id": "c44e5a57fc0846b0ab792260737d207d",
       "version_major": 2,
       "version_minor": 0
      },
      "text/plain": [
       "Tab(children=(Output(), Output()), _titles={'0': 'Youtube', '1': 'Bilibili'})"
      ]
     },
     "metadata": {},
     "output_type": "display_data"
    }
   ],
   "source": [
    "# @title Video 1: Gone fishing\n",
    "from ipywidgets import widgets\n",
    "\n",
    "out2 = widgets.Output()\n",
    "with out2:\n",
    "  from IPython.display import IFrame\n",
    "  class BiliVideo(IFrame):\n",
    "      def __init__(self, id, page=1, width=400, height=300, **kwargs):\n",
    "          self.id=id\n",
    "          src = 'https://player.bilibili.com/player.html?bvid={0}&page={1}'.format(id, page)\n",
    "          super(BiliVideo, self).__init__(src, width, height, **kwargs)\n",
    "\n",
    "  video = BiliVideo(id=\"BV1FL411p7o5\", width=854, height=480, fs=1)\n",
    "  print('Video available at https://www.bilibili.com/video/{0}'.format(video.id))\n",
    "  display(video)\n",
    "\n",
    "out1 = widgets.Output()\n",
    "with out1:\n",
    "  from IPython.display import YouTubeVideo\n",
    "  video = YouTubeVideo(id=\"3oIwUFpolVA\", width=854, height=480, fs=1, rel=0)\n",
    "  print('Video available at https://youtube.com/watch?v=' + video.id)\n",
    "  display(video)\n",
    "\n",
    "out = widgets.Tab([out1, out2])\n",
    "out.set_title(0, 'Youtube')\n",
    "out.set_title(1, 'Bilibili')\n",
    "\n",
    "display(out)"
   ]
  },
  {
   "cell_type": "markdown",
   "metadata": {
    "execution": {}
   },
   "source": [
    "There are two locations for the fish and you (Left and Right). If you're on the same side as the fish, you'll catch more, with probabilty $q_{\\rm high}$ per discrete time step. Otherwise you may still catch fish with probability $q_{\\rm low}$. One fish is worth 1 \"point\".\n",
    "\n",
    "The fish location $s^{\\rm fish}$ is latent. The only information you get about the fish location is when you catch one. Secretly at each time step, the fish may switch sides with a certain probability $p_{\\rm sw} = 1 - p_{\\rm stay}$.\n",
    "\n",
    "\n",
    "You are in control of your own location. You may stay on your current side with no cost, or switch to the other side and incur an action cost $C$ (again, in units of fish).\n",
    "\n",
    "You select controls or actions by following a **policy**. This defines what to do in any situation. Here the situation is specified by your location and your belief $b_t$ about the fish location. For optimal control we assume that this belief is the posterior probability over the current fish location, given all the past measurements. We only need one number for this, since the fish are either on the left or the right. So we write \n",
    "\n",
    "$$b_t = p(s^{\\rm fish}_t = {\\rm Right}\\ |\\ m_{0:t}, a_{0:t-1})$$\n",
    "\n",
    "where $m$ are the measurements, and $a$ are the controls or actions (stay or switch).\n",
    "\n",
    "Ultimately we will parameterize the policy by a simple threshold on beliefs. (This happens to be optimal if you pick the right threshold!) When your belief that fish are on your current side falls below a threshold $\\theta$, you switch to the other side.\n",
    "\n",
    "Your **overall goals** in this tutorial are:\n",
    "1. Measure when fish are caught, first if the school of fish doesn't move.\n",
    "2. For moving fish, plot their dynamics and your belief about it based on your measurements.\n",
    "3. Compute the value for a given control policy.\n",
    "4. Find the optimal policy for controlling your position."
   ]
  },
  {
   "cell_type": "markdown",
   "metadata": {
    "execution": {}
   },
   "source": [
    "## Interactive Demo 1: Examining fish dynamics\n",
    "\n",
    "In this demo, we will look at the dynamics of the fish moving from side to side. We will use the helper class `binaryHMM`, implemented in the next cell. Please take some time to study this class and its methods. You will then see a demo where you can change the probability of switching states and examing the resulting dynamics of the fish.\n"
   ]
  },
  {
   "cell_type": "code",
   "execution_count": 6,
   "metadata": {
    "cellView": "both",
    "tags": []
   },
   "outputs": [],
   "source": [
    "class binaryHMM():\n",
    "\n",
    "  def __init__(self, params, fish_initial=-1, loc_initial=-1):\n",
    "    self.params = params\n",
    "    self.fish_initial = fish_initial\n",
    "    self.loc_initial = loc_initial\n",
    "\n",
    "  def fish_state_telegraph(self, fish_past, p_stay):\n",
    "    \"\"\"\n",
    "    fish state update according to telegraph process\n",
    "\n",
    "    Args:\n",
    "      fish_past (int): the fish location (-1 for left side, 1 for right side)\n",
    "      p_stay : the probability that the state of a certain site stays the same\n",
    "\n",
    "    Returns:\n",
    "      fish_new (int): updated fish location\n",
    "    \"\"\"\n",
    "    # we use logical operation XOR (denoted by ^ in python)\n",
    "    # if first bit is 0 (stay), the second bit (which side) stays the same\n",
    "    # if first bit is 1 (move), the second bit (which side) flips \n",
    "    \n",
    "    fish_new = (1 - binomial(1, p_stay)) ^ ((fish_past + 1) // 2)\n",
    "    \n",
    "    fish_new = fish_new * 2 - 1\n",
    "\n",
    "    return fish_new\n",
    "\n",
    "\n",
    "  def fish_dynamics(self):\n",
    "    \"\"\"\n",
    "    fish state dynamics according to telegraph process\n",
    "\n",
    "    Returns:\n",
    "      fish_state (numpy array of int)\n",
    "    \"\"\"\n",
    "    T, p_stay, _, _, _ = self.params\n",
    "    fish_state = np.zeros(T, int)  # -1: left side ; 1: right side\n",
    "\n",
    "    # initialization\n",
    "    fish_state[0] = self.fish_initial\n",
    "\n",
    "    for t in range(1, T):\n",
    "        fish_state[t] = self.fish_state_telegraph(fish_state[t - 1], p_stay)\n",
    "\n",
    "    return fish_state\n",
    "\n",
    "  def generate_process_lazy(self):\n",
    "    \"\"\"\n",
    "    fish dynamics and measurements if you always stay in the intial location\n",
    "    without changing sides\n",
    "\n",
    "    Returns:\n",
    "      fish_state (numpy array of int): locations of the fish\n",
    "      loc (numpy array of int): left or right site, -1 for left, and 1 for right\n",
    "      measurement (numpy array of binary): whether a reward is obtained\n",
    "    \"\"\"\n",
    "\n",
    "    T, _, high_rew_p, low_rew_p, _ = self.params\n",
    "    rew_p_vector = np.array([low_rew_p, high_rew_p])\n",
    "\n",
    "    fish_state = self.fish_dynamics()\n",
    "    loc  = np.zeros(T, int)            # -1: left side, 1: right side\n",
    "    measurement = np.zeros(T, int)     # 0: no food, 1: get food\n",
    "\n",
    "    for t in range(0, T):\n",
    "      loc[t] = self.loc_initial\n",
    "      # new measurement\n",
    "      measurement[t] = binomial(1, rew_p_vector[(fish_state[t] == loc[t]) * 1])\n",
    "\n",
    "    return fish_state, loc, measurement"
   ]
  },
  {
   "cell_type": "code",
   "execution_count": 7,
   "metadata": {
    "tags": []
   },
   "outputs": [],
   "source": [
    "def update_ex_1(p_stay=.95, high_rew_p=.4, low_rew_p=.1, T=200):\n",
    "  \"\"\"\n",
    "    p_stay: probability fish stay\n",
    "    high_rew_p: p(catch fish) when you're on their side\n",
    "    low_rew_p : p(catch fish) when you're on other side\n",
    "  \"\"\"\n",
    "\n",
    "  params = [T, p_stay, high_rew_p, low_rew_p, _]\n",
    "\n",
    "  #### initial condition for fish [fish_initial] and you [loc_initial] ####\n",
    "  binaryHMM_test = binaryHMM(params, fish_initial=-1, loc_initial=-1)\n",
    "\n",
    "  fish_state = binaryHMM_test.fish_dynamics()\n",
    "  plot_fish(fish_state)"
   ]
  },
  {
   "cell_type": "code",
   "execution_count": 8,
   "metadata": {
    "cellView": "form",
    "tags": []
   },
   "outputs": [
    {
     "data": {
      "application/vnd.jupyter.widget-view+json": {
       "model_id": "815daf4608344561898983b2f0ce0ea5",
       "version_major": 2,
       "version_minor": 0
      },
      "text/plain": [
       "VBox(children=(HBox(children=(FloatSlider(value=0.95, description='p_stay', max=1.0, min=0.5, step=0.001), But…"
      ]
     },
     "metadata": {},
     "output_type": "display_data"
    }
   ],
   "source": [
    "# @markdown Make sure you execute this cell to enable the widget!\n",
    "\n",
    "\n",
    "widget=interactive(update_ex_1, {'manual': True},\n",
    "                high_rew_p=fixed(.4),\n",
    "                low_rew_p=fixed(.1),\n",
    "                p_stay=(.5, 1., .001),\n",
    "                T=fixed(200))\n",
    "\n",
    "widget.children[-2].description='Run Simulation'\n",
    "widget.children[-2].style.button_color='lightgreen'\n",
    "controls = HBox(widget.children[:-1], layout=Layout(flex_flow='row wrap'))\n",
    "output = widget.children[-1]\n",
    "display(VBox([controls, output]))"
   ]
  },
  {
   "cell_type": "markdown",
   "metadata": {
    "execution": {}
   },
   "source": [
    "---\n",
    "# Section 2: Catching fish"
   ]
  },
  {
   "cell_type": "code",
   "execution_count": 9,
   "metadata": {
    "cellView": "form",
    "tags": []
   },
   "outputs": [
    {
     "data": {
      "application/vnd.jupyter.widget-view+json": {
       "model_id": "c27c1ba3325a452f999ee495808ebc98",
       "version_major": 2,
       "version_minor": 0
      },
      "text/plain": [
       "Tab(children=(Output(), Output()), _titles={'0': 'Youtube', '1': 'Bilibili'})"
      ]
     },
     "metadata": {},
     "output_type": "display_data"
    }
   ],
   "source": [
    "# @title Video 2: Catch some fish\n",
    "from ipywidgets import widgets\n",
    "\n",
    "out2 = widgets.Output()\n",
    "with out2:\n",
    "  from IPython.display import IFrame\n",
    "  class BiliVideo(IFrame):\n",
    "      def __init__(self, id, page=1, width=400, height=300, **kwargs):\n",
    "          self.id=id\n",
    "          src = 'https://player.bilibili.com/player.html?bvid={0}&page={1}'.format(id, page)\n",
    "          super(BiliVideo, self).__init__(src, width, height, **kwargs)\n",
    "\n",
    "  video = BiliVideo(id=\"BV1kD4y1m7Lo\", width=854, height=480, fs=1)\n",
    "  print('Video available at https://www.bilibili.com/video/{0}'.format(video.id))\n",
    "  display(video)\n",
    "\n",
    "out1 = widgets.Output()\n",
    "with out1:\n",
    "  from IPython.display import YouTubeVideo\n",
    "  video = YouTubeVideo(id=\"1-Wionllt9U\", width=854, height=480, fs=1, rel=0)\n",
    "  print('Video available at https://youtube.com/watch?v=' + video.id)\n",
    "  display(video)\n",
    "\n",
    "out = widgets.Tab([out1, out2])\n",
    "out.set_title(0, 'Youtube')\n",
    "out.set_title(1, 'Bilibili')\n",
    "\n",
    "display(out)"
   ]
  },
  {
   "cell_type": "markdown",
   "metadata": {
    "execution": {}
   },
   "source": [
    "## Interactive Demo 2: Catching fish\n",
    "\n",
    "Now set $p_{\\rm stay} = 1$ so that the state of the two sites are fixed, and we can directly see the chances of catching fish on each side. The variable `fish_initial` indicates the initial side of the fish, and `loc_initial` indicates your initial location. They each take value $-1$ for left and $1$ for right.\n",
    "\n",
    "**Instructions:**\n",
    "1. set the two locations (`fish_initial` and `loc_initial`) to be the _same_, and measure when you catch fish.\n",
    "2. set the two locations (`fish_initial` and `loc_initial`) to be the _different_, and measure when you catch fish.\n",
    "3. visually compare the measurements from 1 and 2.\n",
    "4. Finally, you can also play around with `high_rew_p` (high reward probability) and `low_rew_p` (low reward probability) sliders."
   ]
  },
  {
   "cell_type": "code",
   "execution_count": 14,
   "metadata": {
    "tags": []
   },
   "outputs": [],
   "source": [
    "def update_ex_2(p_stay=1., high_rew_p=.6, low_rew_p=.05, T=100):\n",
    "  \"\"\"\n",
    "    p_stay: probability fish stay\n",
    "    high_rew_p: p(catch fish) when you're on their side (conditional probability: p(catch fish | same side))\n",
    "    low_rew_p : p(catch fish) when you're on other side (conditional probability: p(catch fish | diff side))\n",
    "  \"\"\"\n",
    "  params = [T, p_stay, high_rew_p, low_rew_p, _]\n",
    "\n",
    "  #### initial condition for fish [fish_initial] and you [loc_initial] ####\n",
    "  binaryHMM_test = binaryHMM(params, fish_initial=-1, loc_initial=-1)\n",
    "\n",
    "  fish_state, loc, measurement = binaryHMM_test.generate_process_lazy()\n",
    "  plot_measurement(measurement)"
   ]
  },
  {
   "cell_type": "code",
   "execution_count": 13,
   "metadata": {
    "cellView": "form",
    "tags": []
   },
   "outputs": [
    {
     "data": {
      "application/vnd.jupyter.widget-view+json": {
       "model_id": "0a08240b1b9047f7a5d8ddfb31d0983e",
       "version_major": 2,
       "version_minor": 0
      },
      "text/plain": [
       "VBox(children=(HBox(children=(FloatSlider(value=0.6, description='high_rew_p', max=1.0, step=0.001), FloatSlid…"
      ]
     },
     "metadata": {},
     "output_type": "display_data"
    }
   ],
   "source": [
    "#@markdown Make sure you execute this cell to enable the widget!\n",
    "\n",
    "widget=interactive(update_ex_2, {'manual': True},\n",
    "                high_rew_p=(.0, 1., .001),\n",
    "                low_rew_p=(.0, 1., .001),\n",
    "                p_stay=fixed(1.),\n",
    "                T=fixed(100))\n",
    "\n",
    "widget.children[-2].description='Run Simulation'\n",
    "widget.children[-2].style.button_color='lightgreen'\n",
    "controls = HBox(widget.children[:-1], layout=Layout(flex_flow='row wrap'))\n",
    "output = widget.children[-1]\n",
    "display(VBox([controls, output]))"
   ]
  },
  {
   "cell_type": "markdown",
   "metadata": {
    "execution": {}
   },
   "source": [
    "---\n",
    "# Section 3: Belief dynamics and belief distributions"
   ]
  },
  {
   "cell_type": "code",
   "execution_count": 15,
   "metadata": {
    "cellView": "form",
    "tags": []
   },
   "outputs": [
    {
     "data": {
      "application/vnd.jupyter.widget-view+json": {
       "model_id": "0d95e325f6ea4a13a23c16c45872c41e",
       "version_major": 2,
       "version_minor": 0
      },
      "text/plain": [
       "Tab(children=(Output(), Output()), _titles={'0': 'Youtube', '1': 'Bilibili'})"
      ]
     },
     "metadata": {},
     "output_type": "display_data"
    }
   ],
   "source": [
    "# @title Video 3: Where are the fish?\n",
    "from ipywidgets import widgets\n",
    "\n",
    "out2 = widgets.Output()\n",
    "with out2:\n",
    "  from IPython.display import IFrame\n",
    "  class BiliVideo(IFrame):\n",
    "      def __init__(self, id, page=1, width=400, height=300, **kwargs):\n",
    "          self.id=id\n",
    "          src = 'https://player.bilibili.com/player.html?bvid={0}&page={1}'.format(id, page)\n",
    "          super(BiliVideo, self).__init__(src, width, height, **kwargs)\n",
    "\n",
    "  video = BiliVideo(id=\"BV19t4y1Q7VH\", width=854, height=480, fs=1)\n",
    "  print('Video available at https://www.bilibili.com/video/{0}'.format(video.id))\n",
    "  display(video)\n",
    "\n",
    "out1 = widgets.Output()\n",
    "with out1:\n",
    "  from IPython.display import YouTubeVideo\n",
    "  video = YouTubeVideo(id=\"wCzVnnd4bmg\", width=854, height=480, fs=1, rel=0)\n",
    "  print('Video available at https://youtube.com/watch?v=' + video.id)\n",
    "  display(video)\n",
    "\n",
    "out = widgets.Tab([out1, out2])\n",
    "out.set_title(0, 'Youtube')\n",
    "out.set_title(1, 'Bilibili')\n",
    "\n",
    "display(out)"
   ]
  },
  {
   "cell_type": "markdown",
   "metadata": {
    "execution": {}
   },
   "source": [
    "We have provided a class for the binary task, with the agent always staying at one side following a lazy policy function `def policy_lazy(belief, loc)` that we provided. Now in this exercise, you will extend the module to generate the real dynamics, including beliefs and a moving agent. With the generated data, we will see how beliefs change over time, and how often different beliefs happen.\n",
    "\n",
    "For convenience, your belief at time *t* is actually a 2-dimensional vector. The first element is the belief that the fish are on the left, and the second element is the belief the fish are on the right. At every time, these elements sum to $1$.\n",
    "\n",
    "We will first check the dynamics with lazy policy, and then explore the case with a threshold-based policy.\n",
    "\n",
    "\n",
    "Evaluate the cells below to setup the lazy policy.\n"
   ]
  },
  {
   "cell_type": "code",
   "execution_count": 16,
   "metadata": {
    "cellView": "both",
    "tags": []
   },
   "outputs": [],
   "source": [
    "class binaryHMM_belief(binaryHMM):\n",
    "\n",
    "  def __init__(self, params, fish_initial = -1, loc_initial = -1,\n",
    "                choose_policy = 'threshold'):\n",
    "    binaryHMM.__init__(self, params, fish_initial, loc_initial)\n",
    "    self.choose_policy = choose_policy\n",
    "\n",
    "  def generate_process(self):\n",
    "    \"\"\"\n",
    "    fish dynamics and measurements based on the choosen policy\n",
    "\n",
    "    Returns:\n",
    "      belief (numpy array of float): belief on the states of the two sites\n",
    "      act (numpy array of string): actions over time\n",
    "      loc (numpy array of int): left or right site\n",
    "      measurement (numpy array of binary): whether a reward is obtained\n",
    "      fish_state (numpy array of int): fish locations\n",
    "    \"\"\"\n",
    "\n",
    "    T, p_stay, high_rew_p, low_rew_p, threshold = self.params\n",
    "    fish_state = self.fish_dynamics()     # -1: left side; 1: right side\n",
    "    loc = np.zeros(T, int)                # -1: left side, 1: right side\n",
    "    measurement = np.zeros(T, int)        # 0: no food, 1: get food\n",
    "    act = np.empty(T, dtype='object')     # \"stay\", or \"switch\"\n",
    "    belief = np.zeros((2, T), float)      # the probability that the fish is on the left (1st element)\n",
    "                                          # or on the right (2nd element),\n",
    "                                          # the beliefs on the two boxes sum up to be 1\n",
    "\n",
    "    rew_prob = np.array([low_rew_p, high_rew_p])\n",
    "\n",
    "    # initialization\n",
    "    loc[0] = -1\n",
    "    measurement[0] = 0\n",
    "    belief_0 = np.random.random(1)[0]\n",
    "    belief[:, 0] = np.array([belief_0, 1 - belief_0])\n",
    "    act[0] = self.policy(threshold, belief[:, 0], loc[0])\n",
    "\n",
    "    for t in range(1, T):\n",
    "      if act[t - 1] == \"stay\":\n",
    "        loc[t] = loc[t - 1]\n",
    "      else:\n",
    "        loc[t] = - loc[t - 1]\n",
    "\n",
    "      # new measurement\n",
    "      measurement[t] = binomial(1, rew_prob[(fish_state[t] == loc[t]) * 1])\n",
    "      belief[0, t] = self.belief_update(belief[0, t - 1] , loc[t],\n",
    "                                        measurement[t], p_stay,\n",
    "                                        high_rew_p, low_rew_p)\n",
    "      belief[1, t] = 1 - belief[0, t]\n",
    "\n",
    "      act[t] = self.policy(threshold, belief[:, t], loc[t])\n",
    "\n",
    "    return belief, loc, act, measurement, fish_state\n",
    "\n",
    "  def policy(self, threshold, belief, loc):\n",
    "    \"\"\"\n",
    "    chooses policy based on whether it is lazy policy\n",
    "        or a threshold-based policy\n",
    "\n",
    "    Args:\n",
    "      threshold (float): the threshold of belief on the current site,\n",
    "          when the belief is lower than the threshold, switch side\n",
    "      belief (numpy array of float): the belief on the two sites\n",
    "      loc (int) : the location of the agent\n",
    "\n",
    "    Returns:\n",
    "      act (string): \"stay\" or \"switch\"\n",
    "    \"\"\"\n",
    "    if self.choose_policy == \"threshold\":\n",
    "      act = policy_threshold(threshold, belief, loc)\n",
    "    if self.choose_policy == \"lazy\":\n",
    "      act = policy_lazy(belief, loc)\n",
    "\n",
    "    return act\n",
    "\n",
    "  def belief_update(self, belief_past, loc, measurement, p_stay,\n",
    "                    high_rew_p, low_rew_p):\n",
    "    \"\"\"\n",
    "    using PAST belief on the LEFT box, CURRENT location and\n",
    "        and measurement to update belief\n",
    "    \"\"\"\n",
    "    rew_prob_matrix = np.array([[1 - high_rew_p, high_rew_p],\n",
    "                                [1 - low_rew_p, low_rew_p]])\n",
    "\n",
    "    # update belief posterior, p(s[t] | measurement(0-t), act(0-t-1))\n",
    "    belief_0 = (belief_past * p_stay  + (1 - belief_past) * (1 - p_stay)) *\\\n",
    "                            rew_prob_matrix[(loc + 1) // 2, measurement]\n",
    "    belief_1 = ((1 - belief_past) * p_stay + belief_past * (1 - p_stay)) *\\\n",
    "                            rew_prob_matrix[1-(loc + 1) // 2, measurement]\n",
    "\n",
    "    belief_0 = belief_0 / (belief_0 + belief_1)\n",
    "\n",
    "    return belief_0"
   ]
  },
  {
   "cell_type": "code",
   "execution_count": 17,
   "metadata": {
    "tags": []
   },
   "outputs": [],
   "source": [
    "def policy_lazy(belief, loc):\n",
    "  \"\"\"\n",
    "  This function is a lazy policy where stay is also taken\n",
    "  \"\"\"\n",
    "  act = \"stay\"\n",
    "\n",
    "  return act"
   ]
  },
  {
   "cell_type": "markdown",
   "metadata": {
    "execution": {}
   },
   "source": [
    "## Interactive Demo 3: Task dynamics following a **lazy** policy\n",
    "\n",
    "The parameter for policy `choose_policy` can be either \"*lazy*\" or \"*threshold*\". In the following example, use the lazy policy.\n",
    "\n",
    "**Instructions:**\n",
    "* With the class defined above, we have created an object of `binaryHMM_belief` given parameters of the dynamics, *params*, and a parameter for policy.\n",
    "* Run the dynamics and explain the time series of the beliefs you see.\n"
   ]
  },
  {
   "cell_type": "code",
   "execution_count": 18,
   "metadata": {
    "tags": []
   },
   "outputs": [],
   "source": [
    "def update_ex_3(p_stay=.98, threshold=.2, high_rew_p=.4, low_rew_p=.1, T=200):\n",
    "  \"\"\"\n",
    "    p_stay: probability fish stay\n",
    "    high_rew_p: p(catch fish) when you're on their side\n",
    "    low_rew_p : p(catch fish) when you're on other side\n",
    "    threshold: threshold of belief below which switching is taken\n",
    "  \"\"\"\n",
    "\n",
    "  params = [T, p_stay, high_rew_p, low_rew_p, threshold]\n",
    "\n",
    "  #### initial condition for fish [fish_initial] and you [loc_initial] ####\n",
    "  binaryHMM_test = binaryHMM_belief(params, choose_policy=\"lazy\",\n",
    "                                    fish_initial=-1, loc_initial=-1)\n",
    "\n",
    "  belief, loc, act, measurement, fish_state = binaryHMM_test.generate_process()\n",
    "  plot_dynamics(belief, loc, act, measurement, fish_state,\n",
    "                binaryHMM_test.choose_policy)"
   ]
  },
  {
   "cell_type": "code",
   "execution_count": 19,
   "metadata": {
    "cellView": "form",
    "tags": []
   },
   "outputs": [
    {
     "data": {
      "application/vnd.jupyter.widget-view+json": {
       "model_id": "5fffadc071444f219cb10505aa672ae3",
       "version_major": 2,
       "version_minor": 0
      },
      "text/plain": [
       "VBox(children=(HBox(children=(FloatSlider(value=0.98, description='p_stay', max=1.0, min=0.5, step=0.001), Flo…"
      ]
     },
     "metadata": {},
     "output_type": "display_data"
    }
   ],
   "source": [
    "#@markdown Make sure you execute this cell to enable the widget!\n",
    "\n",
    "widget=interactive(update_ex_3, {'manual': True},\n",
    "                high_rew_p=(.0, 1., .001),\n",
    "                low_rew_p=(.0, 1., .001),\n",
    "                p_stay=(.5, 1., .001),\n",
    "                T=fixed(200),\n",
    "                threshold=fixed(.2))\n",
    "\n",
    "widget.children[-2].description='Run Simulation'\n",
    "widget.children[-2].style.button_color='lightgreen'\n",
    "controls = HBox(widget.children[:-1], layout=Layout(flex_flow='row wrap'))\n",
    "output = widget.children[-1]\n",
    "display(VBox([controls, output]))"
   ]
  },
  {
   "cell_type": "markdown",
   "metadata": {
    "execution": {}
   },
   "source": [
    "---\n",
    "# Section 4: Implementing threshold policy"
   ]
  },
  {
   "cell_type": "code",
   "execution_count": 20,
   "metadata": {
    "cellView": "form",
    "tags": []
   },
   "outputs": [
    {
     "data": {
      "application/vnd.jupyter.widget-view+json": {
       "model_id": "aa9e5ae0470a4f6f91e58a4fce31fc94",
       "version_major": 2,
       "version_minor": 0
      },
      "text/plain": [
       "Tab(children=(Output(), Output()), _titles={'0': 'Youtube', '1': 'Bilibili'})"
      ]
     },
     "metadata": {},
     "output_type": "display_data"
    }
   ],
   "source": [
    "# @title Video 4: How should you act?\n",
    "from ipywidgets import widgets\n",
    "\n",
    "out2 = widgets.Output()\n",
    "with out2:\n",
    "  from IPython.display import IFrame\n",
    "  class BiliVideo(IFrame):\n",
    "      def __init__(self, id, page=1, width=400, height=300, **kwargs):\n",
    "          self.id=id\n",
    "          src = 'https://player.bilibili.com/player.html?bvid={0}&page={1}'.format(id, page)\n",
    "          super(BiliVideo, self).__init__(src, width, height, **kwargs)\n",
    "\n",
    "  video = BiliVideo(id=\"BV1ri4y137cj\", width=854, height=480, fs=1)\n",
    "  print('Video available at https://www.bilibili.com/video/{0}'.format(video.id))\n",
    "  display(video)\n",
    "\n",
    "out1 = widgets.Output()\n",
    "with out1:\n",
    "  from IPython.display import YouTubeVideo\n",
    "  video = YouTubeVideo(id=\"G3fNz23IDUg\", width=854, height=480, fs=1, rel=0)\n",
    "  print('Video available at https://youtube.com/watch?v=' + video.id)\n",
    "  display(video)\n",
    "\n",
    "out = widgets.Tab([out1, out2])\n",
    "out.set_title(0, 'Youtube')\n",
    "out.set_title(1, 'Bilibili')\n",
    "\n",
    "display(out)"
   ]
  },
  {
   "cell_type": "markdown",
   "metadata": {
    "execution": {}
   },
   "source": [
    "## Coding Exercise 4: dynamics following a **threshold-based** policy.\n",
    "\n",
    "**Instructions:**\n",
    "\n",
    "* You need to code a new policy `def policy_threshold(threshold, belief, loc)`. The policy takes three inputs: your belief about the fish state, your location (\"Left\" or \"Right\"), and a belief _threshold_: when your belief that you are on the same side as the fish drops below this threshold, you choose to switch; otherwise you stay.\n",
    "\n",
    "* You should return an action for each time *t*, which takes the value of \"stay\" or \"switch\".\n",
    "\n",
    "* After you complete the code for the policy based on threshold, create an object of `binaryHMM_belief` and set the policy parameter to be `choose_policy = threshold`.\n",
    "* We have provided an example of the parameters. You should play with the parameters to see the various dynamics."
   ]
  },
  {
   "cell_type": "code",
   "execution_count": 22,
   "metadata": {
    "cellView": "both",
    "tags": []
   },
   "outputs": [
    {
     "name": "stdout",
     "output_type": "stream",
     "text": [
      "Well Done!\n"
     ]
    }
   ],
   "source": [
    "def policy_threshold(threshold, belief, loc):\n",
    "  \"\"\"\n",
    "  chooses whether to switch side based on whether the belief\n",
    "      on the current site drops below the threshold\n",
    "\n",
    "  Args:\n",
    "    threshold (float): the threshold of belief on the current site,\n",
    "                        when the belief is lower than the threshold, switch side\n",
    "    belief (numpy array of float, 2-dimensional): the belief on the\n",
    "                                                  two sites at a certain time\n",
    "    loc (int) : the location of the agent at a certain time\n",
    "                -1 for left side, 1 for right side\n",
    "\n",
    "  Returns:\n",
    "    act (string): \"stay\" or \"switch\"\n",
    "  \"\"\"\n",
    "  ############################################################################\n",
    "  ## Insert code to:\n",
    "  ## generate actions (Stay or Switch) for current belief and location\n",
    "  ##\n",
    "  ## Belief is a 2d vector: first element = Prob(fish on Left | measurements)\n",
    "  ##                       second element = Prob(fish on Right  | measurements)\n",
    "  ## Returns \"switch\" if Belief that fish are in your current location < threshold\n",
    "  ##         \"stay\" otherwise\n",
    "  ##\n",
    "  ## Hint: use loc value to determine which row of belief you need to use\n",
    "  ##       see the docstring for more information about loc\n",
    "  ##\n",
    "  ## complete the function and remove\n",
    "  #raise NotImplementedError(\"Student exercise: Please complete <act>\")\n",
    "  ############################################################################\n",
    "  # Write the if statement\n",
    "  if belief[(loc + 1) // 2] <= threshold:\n",
    "    # action below threshold\n",
    "    act = 'switch'\n",
    "  else:\n",
    "    # action above threshold\n",
    "    act = 'stay'\n",
    "\n",
    "  return act\n",
    "\n",
    "\n",
    "# Test your function\n",
    "test_policy_threshold()"
   ]
  },
  {
   "cell_type": "code",
   "execution_count": null,
   "metadata": {
    "execution": {}
   },
   "outputs": [],
   "source": [
    "# to_remove solution\n",
    "def policy_threshold(threshold, belief, loc):\n",
    "  \"\"\"\n",
    "  chooses whether to switch side based on whether the belief\n",
    "      on the current site drops below the threshold\n",
    "\n",
    "  Args:\n",
    "    threshold (float): the threshold of belief on the current site,\n",
    "                        when the belief is lower than the threshold, switch side\n",
    "    belief (numpy array of float, 2-dimensional): the belief on the\n",
    "                                                  two sites at a certain time\n",
    "    loc (int) : the location of the agent at a certain time\n",
    "                -1 for left side, 1 for right side\n",
    "\n",
    "  Returns:\n",
    "    act (string): \"stay\" or \"switch\"\n",
    "  \"\"\"\n",
    "  # Write the if statement\n",
    "  if belief[(loc + 1) // 2] <= threshold:\n",
    "    # action below threshold\n",
    "    act = \"switch\"\n",
    "  else:\n",
    "    # action above threshold\n",
    "    act = \"stay\"\n",
    "\n",
    "  return act\n",
    "\n",
    "\n",
    "# Test your function\n",
    "test_policy_threshold()"
   ]
  },
  {
   "cell_type": "markdown",
   "metadata": {
    "execution": {}
   },
   "source": [
    "## Interactive Demo 4: Dynamics with different thresholds"
   ]
  },
  {
   "cell_type": "code",
   "execution_count": 23,
   "metadata": {
    "tags": []
   },
   "outputs": [],
   "source": [
    "def update_ex_4(p_stay=.98, threshold=.2, high_rew_p=.4, low_rew_p=.1, T=200):\n",
    "  \"\"\"\n",
    "    p_stay: probability fish stay\n",
    "    high_rew_p: p(catch fish) when you're on their side\n",
    "    low_rew_p : p(catch fish) when you're on other side\n",
    "    threshold: threshold of belief below which switching is taken\n",
    "  \"\"\"\n",
    "  params = [T, p_stay, high_rew_p, low_rew_p, threshold]\n",
    "\n",
    "  #### initial condition for fish [fish_initial] and you [loc_initial] ####\n",
    "  binaryHMM_test = binaryHMM_belief(params, fish_initial=-1, loc_initial=-1,\n",
    "                                    choose_policy=\"threshold\")\n",
    "\n",
    "  belief, loc, act, measurement, fish_state = binaryHMM_test.generate_process()\n",
    "  plot_dynamics(belief, loc, act, measurement,\n",
    "                fish_state, binaryHMM_test.choose_policy)"
   ]
  },
  {
   "cell_type": "code",
   "execution_count": 24,
   "metadata": {
    "cellView": "form",
    "tags": []
   },
   "outputs": [
    {
     "data": {
      "application/vnd.jupyter.widget-view+json": {
       "model_id": "e33b58f7a49a481a8d4ca4d8bf027e6c",
       "version_major": 2,
       "version_minor": 0
      },
      "text/plain": [
       "VBox(children=(HBox(children=(FloatSlider(value=0.2, description='threshold', max=1.0, step=0.001), Button(des…"
      ]
     },
     "metadata": {},
     "output_type": "display_data"
    }
   ],
   "source": [
    "#@markdown Make sure you execute this cell to enable the widget!\n",
    "\n",
    "widget=interactive(update_ex_4, {'manual': True},\n",
    "                high_rew_p=fixed(.4),\n",
    "                low_rew_p=fixed(.1),\n",
    "                p_stay=fixed(.95),\n",
    "                T=fixed(200),\n",
    "                threshold=(.0, 1., .001))\n",
    "\n",
    "widget.children[-2].description='Run Simulation'\n",
    "widget.children[-2].style.button_color='lightgreen'\n",
    "controls = HBox(widget.children[:-1], layout=Layout(flex_flow='row wrap'))\n",
    "output = widget.children[-1]\n",
    "display(VBox([controls, output]))"
   ]
  },
  {
   "cell_type": "markdown",
   "metadata": {
    "execution": {}
   },
   "source": [
    "---\n",
    "# Section 5: Implementing a value function"
   ]
  },
  {
   "cell_type": "code",
   "execution_count": 25,
   "metadata": {
    "cellView": "form",
    "tags": []
   },
   "outputs": [
    {
     "data": {
      "application/vnd.jupyter.widget-view+json": {
       "model_id": "5af6da8acd474b5bbfa38ffa628db595",
       "version_major": 2,
       "version_minor": 0
      },
      "text/plain": [
       "Tab(children=(Output(), Output()), _titles={'0': 'Youtube', '1': 'Bilibili'})"
      ]
     },
     "metadata": {},
     "output_type": "display_data"
    }
   ],
   "source": [
    "# @title Video 5: Evaluate policy\n",
    "from ipywidgets import widgets\n",
    "\n",
    "out2 = widgets.Output()\n",
    "with out2:\n",
    "  from IPython.display import IFrame\n",
    "  class BiliVideo(IFrame):\n",
    "      def __init__(self, id, page=1, width=400, height=300, **kwargs):\n",
    "          self.id=id\n",
    "          src = 'https://player.bilibili.com/player.html?bvid={0}&page={1}'.format(id, page)\n",
    "          super(BiliVideo, self).__init__(src, width, height, **kwargs)\n",
    "\n",
    "  video = BiliVideo(id=\"BV1TD4y1D7K3\", width=854, height=480, fs=1)\n",
    "  print('Video available at https://www.bilibili.com/video/{0}'.format(video.id))\n",
    "  display(video)\n",
    "\n",
    "out1 = widgets.Output()\n",
    "with out1:\n",
    "  from IPython.display import YouTubeVideo\n",
    "  video = YouTubeVideo(id=\"aJhffROC74w\", width=854, height=480, fs=1, rel=0)\n",
    "  print('Video available at https://youtube.com/watch?v=' + video.id)\n",
    "  display(video)\n",
    "\n",
    "out = widgets.Tab([out1, out2])\n",
    "out.set_title(0, 'Youtube')\n",
    "out.set_title(1, 'Bilibili')\n",
    "\n",
    "display(out)"
   ]
  },
  {
   "cell_type": "markdown",
   "metadata": {
    "execution": {}
   },
   "source": [
    "## Coding Exercise 5: Implementing a value function\n",
    "\n",
    "Now we have generated behavior for a policy parameterized by a threshold. While it seems clear that this is at least better than being lazy, we want to know how good it is. For that, we will calculate a _value function_. We will use this value to compare different policies, and maximize the amount of fish we catch while minimizing our effort. \n",
    "\n",
    "Specifically, here the value is total expected utility per unit time.\n",
    "\n",
    "$$V(\\theta) = \\frac{1}{T}\\left(\\sum_t U_s(s_t) + U_a(a_t)\\right)$$ \n",
    "\n",
    "where $U_s(s_t)$ is the instantaneous utility (reward) from the site, and $U_a(a_t)$ is the utility (negative cost) for the chosen action. Here, the action cost is 0 if you stay, and `cost_sw` if you switch. \n",
    "\n",
    "We could take this average mathematically over the probabilities of rewards and actions. More simply, we get the same answer by simply averaging the _actual_ rewards and costs over a long time, so that's what you should do.\n",
    "\n",
    "\n",
    "**Instructions**\n",
    "* Fill in the function `value_function(measurement, act, cost_sw)` given a sequence of measurements, actions, and the cost of switching.\n",
    "* Visually find the threshold that yields the highest total value. We have provided code for plotting value versus threshold. The threshold $\\theta^*$ with the highest value gives the optimal policy for controlling where you should fish."
   ]
  },
  {
   "cell_type": "code",
   "execution_count": 38,
   "metadata": {
    "cellView": "both",
    "tags": []
   },
   "outputs": [
    {
     "name": "stdout",
     "output_type": "stream",
     "text": [
      "Well Done!\n"
     ]
    }
   ],
   "source": [
    "def value_function(measurement, act, cost_sw):\n",
    "  \"\"\"\n",
    "  value function\n",
    "\n",
    "  Args:\n",
    "    act (numpy array of string): length T with each element\n",
    "                                  taking value \"stay\" or \"switch\"\n",
    "    cost_sw (float): the cost of switching side\n",
    "    measurement (numpy array of binary): whether a reward is obtained\n",
    "\n",
    "  Returns:\n",
    "    value (float): expected utility per unit time\n",
    "  \"\"\"\n",
    "  act_int = (act == \"switch\").astype(int)\n",
    "  T = len(measurement)\n",
    "  ############################################################################\n",
    "  ## Insert your code here to:\n",
    "  ##        compute the value function = rate of catching fish - costs\n",
    "  ##\n",
    "  ## complete the function and remove\n",
    "  #raise NotImplementedError(\"Student exercise: Please complete <value>\")\n",
    "  ############################################################################\n",
    "  # Calculate the value function\n",
    "  value = (1 / T) * np.sum(measurement - cost_sw * act_int)\n",
    "  #value = np.mean(measurement - cost_sw * act_int)\n",
    "\n",
    "  return value\n",
    "\n",
    "\n",
    "# Test your function\n",
    "test_value_function()"
   ]
  },
  {
   "cell_type": "code",
   "execution_count": 35,
   "metadata": {
    "tags": []
   },
   "outputs": [
    {
     "name": "stdout",
     "output_type": "stream",
     "text": [
      "Well Done!\n"
     ]
    }
   ],
   "source": [
    "# to_remove solution\n",
    "\n",
    "def value_function(measurement, act, cost_sw):\n",
    "  \"\"\"\n",
    "  value function\n",
    "\n",
    "  Args:\n",
    "    act (numpy array of string): length T with each element\n",
    "                                  taking value \"stay\" or \"switch\"\n",
    "    cost_sw (float): the cost of switching side\n",
    "    measurement (numpy array of binary): whether a reward is obtained\n",
    "\n",
    "  Returns:\n",
    "    value (float): expected utility per unit time\n",
    "  \"\"\"\n",
    "  act_int = (act == \"switch\").astype(int)\n",
    "  T = len(measurement)\n",
    "  # Calculate the value function\n",
    "  value = np.sum(measurement - act_int * cost_sw) / T\n",
    "\n",
    "  return value\n",
    "\n",
    "\n",
    "# Test your function\n",
    "test_value_function()"
   ]
  },
  {
   "cell_type": "code",
   "execution_count": 41,
   "metadata": {
    "tags": []
   },
   "outputs": [
    {
     "data": {
      "image/png": "[encoded data removed]",
      "text/plain": [
       "<Figure size 576x432 with 1 Axes>"
      ]
     },
     "metadata": {
      "image/png": {
       "height": 413,
       "width": 558
      },
      "needs_background": "light"
     },
     "output_type": "display_data"
    }
   ],
   "source": [
    "# Brute force search for optimal policy: loop over thresholds and compute value for each.\n",
    "# This function is needed for the second exercise.\n",
    "\n",
    "\n",
    "def value_threshold(params, cost_sw, step):\n",
    "  threshold_array = np.arange(0, .5 + step, step)\n",
    "  value_array = np.zeros(threshold_array.shape)\n",
    "\n",
    "  T, p_stay, high_rew_p, low_rew_p, _ = params\n",
    "\n",
    "  for i in range(len(threshold_array)):\n",
    "    threshold = threshold_array[i]\n",
    "\n",
    "    params = [T, p_stay, high_rew_p, low_rew_p, threshold]\n",
    "    binaryHMM_test = binaryHMM_belief(params, choose_policy=\"threshold\")\n",
    "    belief, loc, act, measurement, fish_state = binaryHMM_test.generate_process()\n",
    "\n",
    "    value_array[i] = value_function(measurement, act, cost_sw)\n",
    "\n",
    "  return threshold_array, value_array\n",
    "\n",
    "\n",
    "plot_value_threshold(cost_sw=0.5, p_stay=0.95, high_rew_p=0.4, low_rew_p=0.1, T=10000)"
   ]
  },
  {
   "cell_type": "markdown",
   "metadata": {
    "execution": {}
   },
   "source": [
    "---\n",
    "# Summary\n",
    "\n",
    "In this tutorial, you have used the Hidden Markov Models you learned about yesterday to figure out where the fish are, and then you have acted (moved location) to catch the most fish. In particular, you have found an optimal policy to guide your actions."
   ]
  },
  {
   "cell_type": "markdown",
   "metadata": {
    "execution": {}
   },
   "source": [
    "---\n",
    "# Bonus"
   ]
  },
  {
   "cell_type": "markdown",
   "metadata": {
    "execution": {}
   },
   "source": [
    "---\n",
    "## Bonus Section 1: Different task, different optimal policy"
   ]
  },
  {
   "cell_type": "code",
   "execution_count": 31,
   "metadata": {
    "cellView": "form",
    "tags": []
   },
   "outputs": [
    {
     "data": {
      "application/vnd.jupyter.widget-view+json": {
       "model_id": "912e1b59afd84e0bb39646e53ce9dbc4",
       "version_major": 2,
       "version_minor": 0
      },
      "text/plain": [
       "Tab(children=(Output(), Output()), _titles={'0': 'Youtube', '1': 'Bilibili'})"
      ]
     },
     "metadata": {},
     "output_type": "display_data"
    }
   ],
   "source": [
    "# @title Video 6: Sensitivity of optimal policy\n",
    "from ipywidgets import widgets\n",
    "\n",
    "out2 = widgets.Output()\n",
    "with out2:\n",
    "  from IPython.display import IFrame\n",
    "  class BiliVideo(IFrame):\n",
    "      def __init__(self, id, page=1, width=400, height=300, **kwargs):\n",
    "          self.id=id\n",
    "          src = 'https://player.bilibili.com/player.html?bvid={0}&page={1}'.format(id, page)\n",
    "          super(BiliVideo, self).__init__(src, width, height, **kwargs)\n",
    "\n",
    "  video = BiliVideo(id=\"BV1QK4y1e7N9\", width=854, height=480, fs=1)\n",
    "  print('Video available at https://www.bilibili.com/video/{0}'.format(video.id))\n",
    "  display(video)\n",
    "\n",
    "out1 = widgets.Output()\n",
    "with out1:\n",
    "  from IPython.display import YouTubeVideo\n",
    "  video = YouTubeVideo(id=\"wd8IVsKoEfA\", width=854, height=480, fs=1, rel=0)\n",
    "  print('Video available at https://youtube.com/watch?v=' + video.id)\n",
    "  display(video)\n",
    "\n",
    "out = widgets.Tab([out1, out2])\n",
    "out.set_title(0, 'Youtube')\n",
    "out.set_title(1, 'Bilibili')\n",
    "\n",
    "display(out)"
   ]
  },
  {
   "cell_type": "markdown",
   "metadata": {
    "execution": {}
   },
   "source": [
    "### Bonus Interactive Demo 1\n",
    "\n",
    "**Instructions:**\n",
    "After plotting value versus threshold, adjust various task parameters using the sliders below, and observe how the optimal threshold moves with\n",
    "* switching cost (`cost_sw`)\n",
    "* fish dynamics (`p_switch`)\n",
    "* probability of catching fish on each side, `low_rew_p` and `high_rew_p`\n",
    "\n",
    "Can you explain why the optimal threshold changes with these parameters?\n",
    "\n",
    "EXPLAIN why the optimal threshold changes for:\n",
    "* lower switching cost?\n",
    "* faster fish dynamics?\n",
    "* rarer fish?\n",
    "\n",
    "Note that it may require long simulations to see subtle changes in values of different policies, so look for coarse trends first.\n",
    "\n",
    "\n"
   ]
  },
  {
   "cell_type": "code",
   "execution_count": 44,
   "metadata": {
    "cellView": "form",
    "tags": []
   },
   "outputs": [
    {
     "data": {
      "application/vnd.jupyter.widget-view+json": {
       "model_id": "e77828e7d7ea430aa21d499a44a2c059",
       "version_major": 2,
       "version_minor": 0
      },
      "text/plain": [
       "VBox(children=(HBox(children=(FloatSlider(value=0.5, description='cost_sw', max=2.0), FloatSlider(value=0.95, …"
      ]
     },
     "metadata": {},
     "output_type": "display_data"
    }
   ],
   "source": [
    "#@title\n",
    "\n",
    "#@markdown Make sure you execute this cell to enable the widget!\n",
    "\n",
    "widget=interactive(plot_value_threshold, {'manual': True},\n",
    "                   T=fixed(10000),\n",
    "                   p_stay=(0.5, 1., 0.001),\n",
    "                   high_rew_p=(0., 1., 0.001),\n",
    "                   low_rew_p=(0., 1., 0.001),\n",
    "                   cost_sw=(0., 2., .1),\n",
    "                   step=fixed(0.1))\n",
    "\n",
    "widget.children[-2].description='Run Simulation'\n",
    "widget.children[-2].style.button_color='lightgreen'\n",
    "controls = HBox(widget.children[:-1], layout=Layout(flex_flow='row wrap'))\n",
    "output = widget.children[-1]\n",
    "display(VBox([controls, output]))"
   ]
  },
  {
   "cell_type": "code",
   "execution_count": null,
   "metadata": {
    "execution": {}
   },
   "outputs": [],
   "source": [
    "# to_remove explanation\n",
    "\n",
    "\"\"\"\n",
    "\n",
    "* High switching cost means that you should be more certain that the other side\n",
    "is better before committing to change sides. This means that beliefs must fall\n",
    "below a threshold before acting. Conversely, a lower switching cost allows you\n",
    "more flexibility to switch at less stringent thresholds. In the limit of _zero_\n",
    "switching cost, you should always switch whenever you think the other side is\n",
    "better, even if it's just 51%, and even if you switch every time step.\n",
    "* Faster fish dynamics (lower `p_stay`) also promotes faster switching, because\n",
    "you cannot plan as far into the future. In that case you must base your decisions\n",
    "on more immediate evidence, but since you still pay the same switching cost that\n",
    "cost is a higher fraction of your predictable rewards. And thus you should be more\n",
    "conservative, and switch only when you are more confident.\n",
    "* When `high_rew_p` and/or `low_rew_p` decreases, your predictions become less reliable,\n",
    " again encouraging you to require more confidence before committing to a switch.\n",
    "\n",
    "\"\"\""
   ]
  },
  {
   "cell_type": "code",
   "execution_count": 45,
   "metadata": {
    "cellView": "form",
    "tags": []
   },
   "outputs": [
    {
     "data": {
      "application/vnd.jupyter.widget-view+json": {
       "model_id": "1e1c21d63a9248ed9059fd816ff0aafb",
       "version_major": 2,
       "version_minor": 0
      },
      "text/plain": [
       "Tab(children=(Output(), Output()), _titles={'0': 'Youtube', '1': 'Bilibili'})"
      ]
     },
     "metadata": {},
     "output_type": "display_data"
    }
   ],
   "source": [
    "# @title Video 7: From discrete to continuous control\n",
    "from ipywidgets import widgets\n",
    "\n",
    "out2 = widgets.Output()\n",
    "with out2:\n",
    "  from IPython.display import IFrame\n",
    "  class BiliVideo(IFrame):\n",
    "      def __init__(self, id, page=1, width=400, height=300, **kwargs):\n",
    "          self.id=id\n",
    "          src = 'https://player.bilibili.com/player.html?bvid={0}&page={1}'.format(id, page)\n",
    "          super(BiliVideo, self).__init__(src, width, height, **kwargs)\n",
    "\n",
    "  video = BiliVideo(id=\"BV1JA411v7jy\", width=854, height=480, fs=1)\n",
    "  print('Video available at https://www.bilibili.com/video/{0}'.format(video.id))\n",
    "  display(video)\n",
    "\n",
    "out1 = widgets.Output()\n",
    "with out1:\n",
    "  from IPython.display import YouTubeVideo\n",
    "  video = YouTubeVideo(id=\"ndCMgdjv9Gg\", width=854, height=480, fs=1, rel=0)\n",
    "  print('Video available at https://youtube.com/watch?v=' + video.id)\n",
    "  display(video)\n",
    "\n",
    "out = widgets.Tab([out1, out2])\n",
    "out.set_title(0, 'Youtube')\n",
    "out.set_title(1, 'Bilibili')\n",
    "\n",
    "display(out)"
   ]
  },
  {
   "cell_type": "code",
   "execution_count": null,
   "metadata": {},
   "outputs": [],
   "source": []
  }
 ],
 "metadata": {
  "colab": {
   "collapsed_sections": [],
   "include_colab_link": true,
   "name": "W3D3_Tutorial1",
   "provenance": [],
   "toc_visible": true
  },
  "kernel": {
   "display_name": "Python 3",
   "language": "python",
   "name": "python3"
  },
  "kernelspec": {
   "display_name": "Python 3",
   "language": "python",
   "name": "python3"
  },
  "language_info": {
   "codemirror_mode": {
    "name": "ipython",
    "version": 3
   },
   "file_extension": ".py",
   "mimetype": "text/x-python",
   "name": "python",
   "nbconvert_exporter": "python",
   "pygments_lexer": "ipython3",
   "version": "3.8.8"
  },
  "pycharm": {
   "stem_cell": {
    "cell_type": "raw",
    "metadata": {
     "collapsed": false
    },
    "source": [
     "# Tutorial 1- Optimal Control for Discrete State\n",
     "\n",
     "Please execute the cell below to initialize the notebook environment.\n",
     "\n",
     "import numpy as np                 # import numpy\n",
     "import scipy               # import scipy\n",
     "import random                      # import basic random number generator functions\n",
     "from scipy.linalg import inv\n",
     "\n",
     "import matplotlib.pyplot as plt    # import matplotlib\n",
     "\n",
     "---\n",
     "\n",
     "## Tutorial objectives\n",
     "\n",
     "In this tutorial, we will implement a binary HMM task.\n",
     "\n",
     "---\n",
     "\n",
     "## Task Description\n",
     "\n",
     "There are two boxes. The box can be in a high-rewarding state ($s=1$), which means that a reward will be delivered with high probabilty $q_{high}$; or the box can be in low-rewarding state ($s=0$), then the reward will be delivered with low probabilty $q_{low}$.\n",
     "\n",
     "The states of the two boxes are latent. At a certain time, only one of the sites can be in high-rewarding state, and the other box will be the opposite. The states of the two boxes switches with a certain probability $p_{sw}$. \n",
     "\n",
     "![alt text](switching.png \"Title\")\n",
     "\n",
     "\n",
     "The agent may stay at one site for sometime. As the agent accumulates evidence about the state of the box on that site, it may choose to stay or switch to the other side with a switching cost $c$. The agent keeps beliefs on the states of the boxes, which is the posterior probability of the state being high-rewarding given all the past observations. Consider the belief on the state of the left box, we have \n",
     "\n",
     "$$b(s_t) = p(s_t = 1 | o_{0:t}, l_{0:t}, a_{0:t-1})$$\n",
     "\n",
     "where $o$ is the observation that whether a reward is obtained, $l$ is the location of the agent, $a$ is the action of staying ($a=0$) or switching($a=1$). \n",
     "\n",
     "Since the two boxes are completely anti-correlated, i.e. only one of the boxes is high-rewarded at a certain time, the the other one is low-rewarded, the belief on the two boxes should sum up to be 1. As a result, we only need to track the belief on one of the boxes. \n",
     "\n",
     "The policy of the agent depends on a threshold on beliefs. When the belief on the box on the other side gets higher than the threshold $\\theta$, the agent will switch to the other side. In other words, the agent will choose to switch when it is confident enough that the other side is high rewarding. \n",
     "\n",
     "The value function can be defined as the reward rate during a single trial.\n",
     "\n",
     "$$v(\\theta) = \\sum_t r_t - c\\cdot 1_{a_t = 1}$$ \n",
     "\n",
     "we would like to see the relation between the threshold and the value function. \n",
     "\n",
     "### Exercise 1: Control for binary HMM\n",
     "In this excercise, we generate the dynamics for the binary HMM task as described above. \n",
     "\n",
     "# This function is the policy based on threshold\n",
     "\n",
     "def policy(threshold, bel, loc):\n",
     "    if loc == 0:\n",
     "        if bel[1]  >= threshold:\n",
     "            act = 1\n",
     "        else:\n",
     "            act = 0\n",
     "    else:  # loc = 1\n",
     "        if bel[0] >= threshold:\n",
     "            act = 1\n",
     "        else:\n",
     "            act = 0\n",
     "\n",
     "    return act\n",
     "\n",
     "# This function generates the dynamics\n",
     "\n",
     "def generateProcess(params):\n",
     "\n",
     "    T, p_sw, q_high, q_low, cost_sw, threshold = params\n",
     "    world_state = np.zeros((2, T), int)  # value :1: good box; 0: bad box\n",
     "    loc = np.zeros(T, int)  # 0: left box               1: right box\n",
     "    obs = np.zeros(T, int)  # 0: did not get food        1: get food\n",
     "    act = np.zeros(T, int)  # 0 : stay                   1: switch and get food from the other side\n",
     "    bel = np.zeros((2, T), float)  # the probability that the left box has food,\n",
     "    # then the probability that the second box has food is 1-b\n",
     "\n",
     "\n",
     "    p = np.array([1 - p_sw, p_sw])  # transition probability to good state\n",
     "    q = np.array([q_low, q_high])\n",
     "    q_mat = np.array([[1 - q_high, q_high], [1 - q_low, q_low]])\n",
     "\n",
     "    for t in range(T):\n",
     "        if t == 0:\n",
     "            world_state[0, t] = 1    # good box\n",
     "            world_state[1, t] = 1 - world_state[0, t]\n",
     "            loc[t] = 0\n",
     "            obs[t] = 0\n",
     "            bel_0 = np.random.random(1)[0]\n",
     "            bel[:, t] = np.array([bel_0, 1-bel_0])\n",
     "\n",
     "            act[t] = policy(threshold, bel[:, t], loc[t])\n",
     "\n",
     "        else:\n",
     "            world_state[0, t] = np.random.binomial(1, p[world_state[0, t - 1]])\n",
     "            world_state[1, t] = 1 - world_state[0, t]\n",
     "\n",
     "            if act[t - 1] == 0:\n",
     "                loc[t] = loc[t - 1]\n",
     "            else:  # after weitching, open the new box, deplete if any; then wait a usualy time\n",
     "                loc[t] = 1 - loc[t - 1]\n",
     "\n",
     "            # new observation\n",
     "            obs[t] = np.random.binomial(1, q[world_state[loc[t], t-1]])\n",
     "\n",
     "            # update belief posterior, p(s[t] | obs(0-t), act(0-t-1))\n",
     "            bel_0 = (bel[0, t-1] * p_sw  + bel[1, t-1] * (1 - p_sw)) * q_mat[loc[t], obs[t]]\n",
     "            bel_1 = (bel[1, t - 1] * p_sw + bel[0, t - 1] * (1 - p_sw)) * q_mat[1-loc[t], obs[t]]\n",
     "\n",
     "            bel[0, t] = bel_0 / (bel_0 + bel_1)\n",
     "            bel[1, t] = bel_1 / (bel_0 + bel_1)\n",
     "\n",
     "            act[t] = policy(threshold, bel[:, t], loc[t])\n",
     "\n",
     "    return bel, obs, act, world_state, loc\n",
     "\n",
     "# value function \n",
     "def value_function(obs, act, cost_sw, discount):\n",
     "    T = len(obs)\n",
     "    discount_time = np.array([discount ** t for t in range(T)])\n",
     "\n",
     "    #value = (np.sum(obs) - np.sum(act) * cost_sw) / T\n",
     "    value = (np.sum(np.multiply(obs, discount_time)) - np.sum(np.multiply(act, discount_time)) * cost_sw) / T\n",
     "\n",
     "    return value\n",
     "\n",
     "def switch_int(obs, act):\n",
     "    sw_t = np.where(act == 1)[0]\n",
     "    sw_int = sw_t[1:] - sw_t[:-1]\n",
     "\n",
     "    return sw_int\n",
     "\n",
     "#Plotting \n",
     "def plot_dynamics(bel, obs, act, world_state, loc):\n",
     "    T = len(obs)\n",
     "\n",
     "    showlen = min(T, 100)\n",
     "    startT = 0\n",
     "\n",
     "    endT = startT + showlen\n",
     "    showT = range(startT, endT)\n",
     "    time_range = np.linspace(0, showlen - 1)\n",
     "\n",
     "    fig_posterior, [ax0, ax1, ax_loc, ax2, ax3] = plt.subplots(5, 1, figsize=(15, 10))\n",
     "\n",
     "    ax0.plot(world_state[0, showT], color='dodgerblue', markersize=10, linewidth=3.0)\n",
     "    ax0.set_ylabel('Left box', rotation=360, fontsize=22)\n",
     "    ax0.yaxis.set_label_coords(-0.1, 0.25)\n",
     "    ax0.set_xticks(np.arange(0, showlen, 10))\n",
     "    ax0.tick_params(axis='both', which='major', labelsize=18)\n",
     "    ax0.set_xlim([0, showlen])\n",
     "\n",
     "\n",
     "    ax3.plot(world_state[1, showT], color='dodgerblue', markersize=10, linewidth=3.0)\n",
     "    ax3.set_ylabel('Right box', rotation=360, fontsize=22)\n",
     "    ax3.yaxis.set_label_coords(-0.1, 0.25)\n",
     "    ax3.tick_params(axis='both', which='major', labelsize=18)\n",
     "    ax3.set_xlim([0, showlen])\n",
     "    ax3.set_xticks(np.arange(0, showlen, 10))\n",
     "\n",
     "    ax1.plot(bel[0, showT], color='dodgerblue', markersize=10, linewidth=3.0)\n",
     "    ax1.plot(time_range, threshold * np.ones(time_range.shape), 'r--')\n",
     "    ax1.yaxis.set_label_coords(-0.1, 0.25)\n",
     "    ax1.set_ylabel('Belief on \\n left box', rotation=360, fontsize=22)\n",
     "    ax1.tick_params(axis='both', which='major', labelsize=18)\n",
     "    ax1.set_xlim([0, showlen])\n",
     "    ax1.set_ylim([0, 1])\n",
     "    ax1.set_xticks(np.arange(0, showlen, 10))\n",
     "\n",
     "\n",
     "    ax_loc.plot(1 - loc[showT], 'g.-', markersize=12, linewidth=5, label = 'location')\n",
     "    ax_loc.plot((act[showT] - .1) * .8, 'v', markersize=10, label = 'action')\n",
     "    ax_loc.plot(obs[showT] * .5, '*', markersize=5, label = 'reward')\n",
     "    ax_loc.legend(loc=\"upper right\")\n",
     "    ax_loc.set_xlim([0, showlen])\n",
     "    ax_loc.set_ylim([0, 1])\n",
     "    #ax_loc.set_yticks([])\n",
     "    ax_loc.set_xticks([0, showlen])\n",
     "    ax_loc.tick_params(axis='both', which='major', labelsize=18)\n",
     "    labels = [item.get_text() for item in ax_loc.get_yticklabels()]\n",
     "    labels[0] = 'Right'\n",
     "    labels[-1] = 'Left'\n",
     "    ax_loc.set_yticklabels(labels)\n",
     "\n",
     "    ax2.plot(bel[1, showT], color='dodgerblue', markersize=10, linewidth=3.0)\n",
     "    ax2.plot(time_range, threshold * np.ones(time_range.shape), 'r--')\n",
     "    ax2.set_xlabel('time', fontsize=18)\n",
     "    ax2.yaxis.set_label_coords(-0.1, 0.25)\n",
     "    ax2.set_ylabel('Belief on  \\n  right box', rotation=360, fontsize=22)\n",
     "    ax2.tick_params(axis='both', which='major', labelsize=18)\n",
     "    ax2.set_xlim([0, showlen])\n",
     "    ax2.set_ylim([0, 1])\n",
     "    ax2.set_xticks(np.arange(0, showlen, 10))\n",
     "\n",
     "    plt.show()\n",
     "\n",
     "def plot_val_thre(threshold_array, value_array):\n",
     "    fig_, ax = plt.subplots(1, 1, figsize=(10, 10))\n",
     "    ax.plot(threshold_array, value_array)\n",
     "    ax.set_ylim([np.min(value_array), np.max(value_array)])\n",
     "    ax.set_title('threshold vs value')\n",
     "    ax.set_xlabel('threshold')\n",
     "    ax.set_ylabel('value')\n",
     "    plt.show()\n",
     "\n",
     "T = 5000\n",
     "p_sw = .95          # state transiton probability\n",
     "q_high = .7\n",
     "q_low = 0 #.2\n",
     "cost_sw = 1 #int(1/(1-p_sw)) - 5\n",
     "threshold = .8    # threshold of belief for switching\n",
     "discount = 1\n",
     "\n",
     "step = 0.1\n",
     "threshold_array = np.arange(0, 1 + step, step)\n",
     "value_array = np.zeros(threshold_array.shape)\n",
     "\n",
     "for i in range(len(threshold_array)):\n",
     "    threshold = threshold_array[i]\n",
     "    params = [T, p_sw, q_high, q_low, cost_sw, threshold]\n",
     "    bel, obs, act, world_state, loc = generateProcess(params)\n",
     "    value_array[i] = value_function(obs, act, cost_sw, discount)\n",
     "    sw_int = switch_int(obs, act)\n",
     "    #print(np.mean(sw_int))\n",
     "\n",
     "    if threshold == 0.8:\n",
     "        plot_dynamics(bel, obs, act, world_state, loc)\n",
     "\n",
     "plot_val_thre(threshold_array, value_array)\n",
     "\n",
     "\n",
     "\n",
     "\n",
     "\n",
     "\n",
     "\n",
     "\n"
    ]
   }
  }
 },
 "nbformat": 4,
 "nbformat_minor": 4
}
